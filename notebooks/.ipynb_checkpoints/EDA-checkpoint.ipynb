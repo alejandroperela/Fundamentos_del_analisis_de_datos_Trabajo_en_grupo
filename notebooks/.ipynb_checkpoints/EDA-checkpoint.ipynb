{
 "cells": [
  {
   "cell_type": "markdown",
   "id": "1345771d-c1fc-46de-a098-1bf42dd303cb",
   "metadata": {},
   "source": [
    "Library import"
   ]
  },
  {
   "cell_type": "code",
   "execution_count": 2,
   "id": "8645f0cd-5d5d-4f05-b0e7-8f8b0ea358e8",
   "metadata": {},
   "outputs": [],
   "source": [
    "library(dplyr)"
   ]
  },
  {
   "cell_type": "code",
   "execution_count": 61,
   "id": "9257a42c-d7f8-4233-a582-15e7c124bc58",
   "metadata": {},
   "outputs": [
    {
     "data": {
      "text/html": [
       "<table class=\"dataframe\">\n",
       "<caption>A data.frame: 6 × 21</caption>\n",
       "<thead>\n",
       "\t<tr><th></th><th scope=col>age</th><th scope=col>job</th><th scope=col>marital</th><th scope=col>education</th><th scope=col>default</th><th scope=col>housing</th><th scope=col>loan</th><th scope=col>contact</th><th scope=col>month</th><th scope=col>day_of_week</th><th scope=col>⋯</th><th scope=col>campaign</th><th scope=col>pdays</th><th scope=col>previous</th><th scope=col>poutcome</th><th scope=col>emp.var.rate</th><th scope=col>cons.price.idx</th><th scope=col>cons.conf.idx</th><th scope=col>euribor3m</th><th scope=col>nr.employed</th><th scope=col>y</th></tr>\n",
       "\t<tr><th></th><th scope=col>&lt;int&gt;</th><th scope=col>&lt;chr&gt;</th><th scope=col>&lt;chr&gt;</th><th scope=col>&lt;chr&gt;</th><th scope=col>&lt;chr&gt;</th><th scope=col>&lt;chr&gt;</th><th scope=col>&lt;chr&gt;</th><th scope=col>&lt;chr&gt;</th><th scope=col>&lt;chr&gt;</th><th scope=col>&lt;chr&gt;</th><th scope=col>⋯</th><th scope=col>&lt;int&gt;</th><th scope=col>&lt;int&gt;</th><th scope=col>&lt;int&gt;</th><th scope=col>&lt;chr&gt;</th><th scope=col>&lt;dbl&gt;</th><th scope=col>&lt;dbl&gt;</th><th scope=col>&lt;dbl&gt;</th><th scope=col>&lt;dbl&gt;</th><th scope=col>&lt;dbl&gt;</th><th scope=col>&lt;chr&gt;</th></tr>\n",
       "</thead>\n",
       "<tbody>\n",
       "\t<tr><th scope=row>1</th><td>30</td><td>blue-collar</td><td>married</td><td>basic.9y         </td><td>no</td><td>yes    </td><td>no     </td><td>cellular </td><td>may</td><td>fri</td><td>⋯</td><td>2</td><td>999</td><td>0</td><td>nonexistent</td><td>-1.8</td><td>92.893</td><td>-46.2</td><td>1.313</td><td>5099.1</td><td>no</td></tr>\n",
       "\t<tr><th scope=row>2</th><td>39</td><td>services   </td><td>single </td><td>high.school      </td><td>no</td><td>no     </td><td>no     </td><td>telephone</td><td>may</td><td>fri</td><td>⋯</td><td>4</td><td>999</td><td>0</td><td>nonexistent</td><td> 1.1</td><td>93.994</td><td>-36.4</td><td>4.855</td><td>5191.0</td><td>no</td></tr>\n",
       "\t<tr><th scope=row>3</th><td>25</td><td>services   </td><td>married</td><td>high.school      </td><td>no</td><td>yes    </td><td>no     </td><td>telephone</td><td>jun</td><td>wed</td><td>⋯</td><td>1</td><td>999</td><td>0</td><td>nonexistent</td><td> 1.4</td><td>94.465</td><td>-41.8</td><td>4.962</td><td>5228.1</td><td>no</td></tr>\n",
       "\t<tr><th scope=row>4</th><td>38</td><td>services   </td><td>married</td><td>basic.9y         </td><td>no</td><td>unknown</td><td>unknown</td><td>telephone</td><td>jun</td><td>fri</td><td>⋯</td><td>3</td><td>999</td><td>0</td><td>nonexistent</td><td> 1.4</td><td>94.465</td><td>-41.8</td><td>4.959</td><td>5228.1</td><td>no</td></tr>\n",
       "\t<tr><th scope=row>5</th><td>47</td><td>admin.     </td><td>married</td><td>university.degree</td><td>no</td><td>yes    </td><td>no     </td><td>cellular </td><td>nov</td><td>mon</td><td>⋯</td><td>1</td><td>999</td><td>0</td><td>nonexistent</td><td>-0.1</td><td>93.200</td><td>-42.0</td><td>4.191</td><td>5195.8</td><td>no</td></tr>\n",
       "\t<tr><th scope=row>6</th><td>32</td><td>services   </td><td>single </td><td>university.degree</td><td>no</td><td>no     </td><td>no     </td><td>cellular </td><td>sep</td><td>thu</td><td>⋯</td><td>3</td><td>999</td><td>2</td><td>failure    </td><td>-1.1</td><td>94.199</td><td>-37.5</td><td>0.884</td><td>4963.6</td><td>no</td></tr>\n",
       "</tbody>\n",
       "</table>\n"
      ],
      "text/latex": [
       "A data.frame: 6 × 21\n",
       "\\begin{tabular}{r|lllllllllllllllllllll}\n",
       "  & age & job & marital & education & default & housing & loan & contact & month & day\\_of\\_week & ⋯ & campaign & pdays & previous & poutcome & emp.var.rate & cons.price.idx & cons.conf.idx & euribor3m & nr.employed & y\\\\\n",
       "  & <int> & <chr> & <chr> & <chr> & <chr> & <chr> & <chr> & <chr> & <chr> & <chr> & ⋯ & <int> & <int> & <int> & <chr> & <dbl> & <dbl> & <dbl> & <dbl> & <dbl> & <chr>\\\\\n",
       "\\hline\n",
       "\t1 & 30 & blue-collar & married & basic.9y          & no & yes     & no      & cellular  & may & fri & ⋯ & 2 & 999 & 0 & nonexistent & -1.8 & 92.893 & -46.2 & 1.313 & 5099.1 & no\\\\\n",
       "\t2 & 39 & services    & single  & high.school       & no & no      & no      & telephone & may & fri & ⋯ & 4 & 999 & 0 & nonexistent &  1.1 & 93.994 & -36.4 & 4.855 & 5191.0 & no\\\\\n",
       "\t3 & 25 & services    & married & high.school       & no & yes     & no      & telephone & jun & wed & ⋯ & 1 & 999 & 0 & nonexistent &  1.4 & 94.465 & -41.8 & 4.962 & 5228.1 & no\\\\\n",
       "\t4 & 38 & services    & married & basic.9y          & no & unknown & unknown & telephone & jun & fri & ⋯ & 3 & 999 & 0 & nonexistent &  1.4 & 94.465 & -41.8 & 4.959 & 5228.1 & no\\\\\n",
       "\t5 & 47 & admin.      & married & university.degree & no & yes     & no      & cellular  & nov & mon & ⋯ & 1 & 999 & 0 & nonexistent & -0.1 & 93.200 & -42.0 & 4.191 & 5195.8 & no\\\\\n",
       "\t6 & 32 & services    & single  & university.degree & no & no      & no      & cellular  & sep & thu & ⋯ & 3 & 999 & 2 & failure     & -1.1 & 94.199 & -37.5 & 0.884 & 4963.6 & no\\\\\n",
       "\\end{tabular}\n"
      ],
      "text/markdown": [
       "\n",
       "A data.frame: 6 × 21\n",
       "\n",
       "| <!--/--> | age &lt;int&gt; | job &lt;chr&gt; | marital &lt;chr&gt; | education &lt;chr&gt; | default &lt;chr&gt; | housing &lt;chr&gt; | loan &lt;chr&gt; | contact &lt;chr&gt; | month &lt;chr&gt; | day_of_week &lt;chr&gt; | ⋯ ⋯ | campaign &lt;int&gt; | pdays &lt;int&gt; | previous &lt;int&gt; | poutcome &lt;chr&gt; | emp.var.rate &lt;dbl&gt; | cons.price.idx &lt;dbl&gt; | cons.conf.idx &lt;dbl&gt; | euribor3m &lt;dbl&gt; | nr.employed &lt;dbl&gt; | y &lt;chr&gt; |\n",
       "|---|---|---|---|---|---|---|---|---|---|---|---|---|---|---|---|---|---|---|---|---|---|\n",
       "| 1 | 30 | blue-collar | married | basic.9y          | no | yes     | no      | cellular  | may | fri | ⋯ | 2 | 999 | 0 | nonexistent | -1.8 | 92.893 | -46.2 | 1.313 | 5099.1 | no |\n",
       "| 2 | 39 | services    | single  | high.school       | no | no      | no      | telephone | may | fri | ⋯ | 4 | 999 | 0 | nonexistent |  1.1 | 93.994 | -36.4 | 4.855 | 5191.0 | no |\n",
       "| 3 | 25 | services    | married | high.school       | no | yes     | no      | telephone | jun | wed | ⋯ | 1 | 999 | 0 | nonexistent |  1.4 | 94.465 | -41.8 | 4.962 | 5228.1 | no |\n",
       "| 4 | 38 | services    | married | basic.9y          | no | unknown | unknown | telephone | jun | fri | ⋯ | 3 | 999 | 0 | nonexistent |  1.4 | 94.465 | -41.8 | 4.959 | 5228.1 | no |\n",
       "| 5 | 47 | admin.      | married | university.degree | no | yes     | no      | cellular  | nov | mon | ⋯ | 1 | 999 | 0 | nonexistent | -0.1 | 93.200 | -42.0 | 4.191 | 5195.8 | no |\n",
       "| 6 | 32 | services    | single  | university.degree | no | no      | no      | cellular  | sep | thu | ⋯ | 3 | 999 | 2 | failure     | -1.1 | 94.199 | -37.5 | 0.884 | 4963.6 | no |\n",
       "\n"
      ],
      "text/plain": [
       "  age job         marital education         default housing loan    contact  \n",
       "1 30  blue-collar married basic.9y          no      yes     no      cellular \n",
       "2 39  services    single  high.school       no      no      no      telephone\n",
       "3 25  services    married high.school       no      yes     no      telephone\n",
       "4 38  services    married basic.9y          no      unknown unknown telephone\n",
       "5 47  admin.      married university.degree no      yes     no      cellular \n",
       "6 32  services    single  university.degree no      no      no      cellular \n",
       "  month day_of_week ⋯ campaign pdays previous poutcome    emp.var.rate\n",
       "1 may   fri         ⋯ 2        999   0        nonexistent -1.8        \n",
       "2 may   fri         ⋯ 4        999   0        nonexistent  1.1        \n",
       "3 jun   wed         ⋯ 1        999   0        nonexistent  1.4        \n",
       "4 jun   fri         ⋯ 3        999   0        nonexistent  1.4        \n",
       "5 nov   mon         ⋯ 1        999   0        nonexistent -0.1        \n",
       "6 sep   thu         ⋯ 3        999   2        failure     -1.1        \n",
       "  cons.price.idx cons.conf.idx euribor3m nr.employed y \n",
       "1 92.893         -46.2         1.313     5099.1      no\n",
       "2 93.994         -36.4         4.855     5191.0      no\n",
       "3 94.465         -41.8         4.962     5228.1      no\n",
       "4 94.465         -41.8         4.959     5228.1      no\n",
       "5 93.200         -42.0         4.191     5195.8      no\n",
       "6 94.199         -37.5         0.884     4963.6      no"
      ]
     },
     "metadata": {},
     "output_type": "display_data"
    }
   ],
   "source": [
    "data <- read.csv(file = '../data/bank-additional/bank-additional.csv', sep = ';')\n",
    "head(data)"
   ]
  },
  {
   "cell_type": "code",
   "execution_count": 62,
   "id": "bc416173-d8f9-448c-af5f-c09a3cfbff82",
   "metadata": {},
   "outputs": [
    {
     "data": {
      "text/html": [
       "<style>\n",
       ".dl-inline {width: auto; margin:0; padding: 0}\n",
       ".dl-inline>dt, .dl-inline>dd {float: none; width: auto; display: inline-block}\n",
       ".dl-inline>dt::after {content: \":\\0020\"; padding-right: .5ex}\n",
       ".dl-inline>dt:not(:first-of-type) {padding-left: .5ex}\n",
       "</style><dl class=dl-inline><dt>age</dt><dd>0</dd><dt>job</dt><dd>0</dd><dt>marital</dt><dd>0</dd><dt>education</dt><dd>0</dd><dt>default</dt><dd>0</dd><dt>housing</dt><dd>0</dd><dt>loan</dt><dd>0</dd><dt>contact</dt><dd>0</dd><dt>month</dt><dd>0</dd><dt>day_of_week</dt><dd>0</dd><dt>duration</dt><dd>0</dd><dt>campaign</dt><dd>0</dd><dt>pdays</dt><dd>0</dd><dt>previous</dt><dd>0</dd><dt>poutcome</dt><dd>0</dd><dt>emp.var.rate</dt><dd>0</dd><dt>cons.price.idx</dt><dd>0</dd><dt>cons.conf.idx</dt><dd>0</dd><dt>euribor3m</dt><dd>0</dd><dt>nr.employed</dt><dd>0</dd><dt>y</dt><dd>0</dd></dl>\n"
      ],
      "text/latex": [
       "\\begin{description*}\n",
       "\\item[age] 0\n",
       "\\item[job] 0\n",
       "\\item[marital] 0\n",
       "\\item[education] 0\n",
       "\\item[default] 0\n",
       "\\item[housing] 0\n",
       "\\item[loan] 0\n",
       "\\item[contact] 0\n",
       "\\item[month] 0\n",
       "\\item[day\\textbackslash{}\\_of\\textbackslash{}\\_week] 0\n",
       "\\item[duration] 0\n",
       "\\item[campaign] 0\n",
       "\\item[pdays] 0\n",
       "\\item[previous] 0\n",
       "\\item[poutcome] 0\n",
       "\\item[emp.var.rate] 0\n",
       "\\item[cons.price.idx] 0\n",
       "\\item[cons.conf.idx] 0\n",
       "\\item[euribor3m] 0\n",
       "\\item[nr.employed] 0\n",
       "\\item[y] 0\n",
       "\\end{description*}\n"
      ],
      "text/markdown": [
       "age\n",
       ":   0job\n",
       ":   0marital\n",
       ":   0education\n",
       ":   0default\n",
       ":   0housing\n",
       ":   0loan\n",
       ":   0contact\n",
       ":   0month\n",
       ":   0day_of_week\n",
       ":   0duration\n",
       ":   0campaign\n",
       ":   0pdays\n",
       ":   0previous\n",
       ":   0poutcome\n",
       ":   0emp.var.rate\n",
       ":   0cons.price.idx\n",
       ":   0cons.conf.idx\n",
       ":   0euribor3m\n",
       ":   0nr.employed\n",
       ":   0y\n",
       ":   0\n",
       "\n"
      ],
      "text/plain": [
       "           age            job        marital      education        default \n",
       "             0              0              0              0              0 \n",
       "       housing           loan        contact          month    day_of_week \n",
       "             0              0              0              0              0 \n",
       "      duration       campaign          pdays       previous       poutcome \n",
       "             0              0              0              0              0 \n",
       "  emp.var.rate cons.price.idx  cons.conf.idx      euribor3m    nr.employed \n",
       "             0              0              0              0              0 \n",
       "             y \n",
       "             0 "
      ]
     },
     "metadata": {},
     "output_type": "display_data"
    }
   ],
   "source": [
    "colSums(is.na(data))"
   ]
  },
  {
   "cell_type": "code",
   "execution_count": 63,
   "id": "6303dd65-65d4-441c-a556-4d0169c664ab",
   "metadata": {},
   "outputs": [
    {
     "data": {
      "text/html": [
       "<style>\n",
       ".dl-inline {width: auto; margin:0; padding: 0}\n",
       ".dl-inline>dt, .dl-inline>dd {float: none; width: auto; display: inline-block}\n",
       ".dl-inline>dt::after {content: \":\\0020\"; padding-right: .5ex}\n",
       ".dl-inline>dt:not(:first-of-type) {padding-left: .5ex}\n",
       "</style><dl class=dl-inline><dt>age</dt><dd>'integer'</dd><dt>job</dt><dd>'character'</dd><dt>marital</dt><dd>'character'</dd><dt>education</dt><dd>'character'</dd><dt>default</dt><dd>'character'</dd><dt>housing</dt><dd>'character'</dd><dt>loan</dt><dd>'character'</dd><dt>contact</dt><dd>'character'</dd><dt>month</dt><dd>'character'</dd><dt>day_of_week</dt><dd>'character'</dd><dt>duration</dt><dd>'integer'</dd><dt>campaign</dt><dd>'integer'</dd><dt>pdays</dt><dd>'integer'</dd><dt>previous</dt><dd>'integer'</dd><dt>poutcome</dt><dd>'character'</dd><dt>emp.var.rate</dt><dd>'numeric'</dd><dt>cons.price.idx</dt><dd>'numeric'</dd><dt>cons.conf.idx</dt><dd>'numeric'</dd><dt>euribor3m</dt><dd>'numeric'</dd><dt>nr.employed</dt><dd>'numeric'</dd><dt>y</dt><dd>'character'</dd></dl>\n"
      ],
      "text/latex": [
       "\\begin{description*}\n",
       "\\item[age] 'integer'\n",
       "\\item[job] 'character'\n",
       "\\item[marital] 'character'\n",
       "\\item[education] 'character'\n",
       "\\item[default] 'character'\n",
       "\\item[housing] 'character'\n",
       "\\item[loan] 'character'\n",
       "\\item[contact] 'character'\n",
       "\\item[month] 'character'\n",
       "\\item[day\\textbackslash{}\\_of\\textbackslash{}\\_week] 'character'\n",
       "\\item[duration] 'integer'\n",
       "\\item[campaign] 'integer'\n",
       "\\item[pdays] 'integer'\n",
       "\\item[previous] 'integer'\n",
       "\\item[poutcome] 'character'\n",
       "\\item[emp.var.rate] 'numeric'\n",
       "\\item[cons.price.idx] 'numeric'\n",
       "\\item[cons.conf.idx] 'numeric'\n",
       "\\item[euribor3m] 'numeric'\n",
       "\\item[nr.employed] 'numeric'\n",
       "\\item[y] 'character'\n",
       "\\end{description*}\n"
      ],
      "text/markdown": [
       "age\n",
       ":   'integer'job\n",
       ":   'character'marital\n",
       ":   'character'education\n",
       ":   'character'default\n",
       ":   'character'housing\n",
       ":   'character'loan\n",
       ":   'character'contact\n",
       ":   'character'month\n",
       ":   'character'day_of_week\n",
       ":   'character'duration\n",
       ":   'integer'campaign\n",
       ":   'integer'pdays\n",
       ":   'integer'previous\n",
       ":   'integer'poutcome\n",
       ":   'character'emp.var.rate\n",
       ":   'numeric'cons.price.idx\n",
       ":   'numeric'cons.conf.idx\n",
       ":   'numeric'euribor3m\n",
       ":   'numeric'nr.employed\n",
       ":   'numeric'y\n",
       ":   'character'\n",
       "\n"
      ],
      "text/plain": [
       "           age            job        marital      education        default \n",
       "     \"integer\"    \"character\"    \"character\"    \"character\"    \"character\" \n",
       "       housing           loan        contact          month    day_of_week \n",
       "   \"character\"    \"character\"    \"character\"    \"character\"    \"character\" \n",
       "      duration       campaign          pdays       previous       poutcome \n",
       "     \"integer\"      \"integer\"      \"integer\"      \"integer\"    \"character\" \n",
       "  emp.var.rate cons.price.idx  cons.conf.idx      euribor3m    nr.employed \n",
       "     \"numeric\"      \"numeric\"      \"numeric\"      \"numeric\"      \"numeric\" \n",
       "             y \n",
       "   \"character\" "
      ]
     },
     "metadata": {},
     "output_type": "display_data"
    }
   ],
   "source": [
    "sapply(data, class)"
   ]
  },
  {
   "cell_type": "code",
   "execution_count": 64,
   "id": "b5ecd808-b039-4e08-a8a8-9157f41b5f74",
   "metadata": {},
   "outputs": [],
   "source": [
    "na_numeric_columns <- c(\"age\", \"campaign\", \"pdays\", \"previous\")"
   ]
  },
  {
   "cell_type": "code",
   "execution_count": 65,
   "id": "f24e2e08-ac7f-451c-9c2e-9511fa2fd631",
   "metadata": {},
   "outputs": [],
   "source": [
    "for (column in na_numeric_columns){\n",
    "    ind <- sample.int(nrow(data), nrow(data) * 0.07)\n",
    "    data[c(ind), column] <- NA\n",
    "}"
   ]
  },
  {
   "cell_type": "code",
   "execution_count": 66,
   "id": "4dc6a175-48a0-434b-88bd-6c01f21ae235",
   "metadata": {},
   "outputs": [
    {
     "data": {
      "text/html": [
       "<style>\n",
       ".dl-inline {width: auto; margin:0; padding: 0}\n",
       ".dl-inline>dt, .dl-inline>dd {float: none; width: auto; display: inline-block}\n",
       ".dl-inline>dt::after {content: \":\\0020\"; padding-right: .5ex}\n",
       ".dl-inline>dt:not(:first-of-type) {padding-left: .5ex}\n",
       "</style><dl class=dl-inline><dt>age</dt><dd>288</dd><dt>job</dt><dd>0</dd><dt>marital</dt><dd>0</dd><dt>education</dt><dd>0</dd><dt>default</dt><dd>0</dd><dt>housing</dt><dd>0</dd><dt>loan</dt><dd>0</dd><dt>contact</dt><dd>0</dd><dt>month</dt><dd>0</dd><dt>day_of_week</dt><dd>0</dd><dt>duration</dt><dd>0</dd><dt>campaign</dt><dd>288</dd><dt>pdays</dt><dd>288</dd><dt>previous</dt><dd>288</dd><dt>poutcome</dt><dd>0</dd><dt>emp.var.rate</dt><dd>0</dd><dt>cons.price.idx</dt><dd>0</dd><dt>cons.conf.idx</dt><dd>0</dd><dt>euribor3m</dt><dd>0</dd><dt>nr.employed</dt><dd>0</dd><dt>y</dt><dd>0</dd></dl>\n"
      ],
      "text/latex": [
       "\\begin{description*}\n",
       "\\item[age] 288\n",
       "\\item[job] 0\n",
       "\\item[marital] 0\n",
       "\\item[education] 0\n",
       "\\item[default] 0\n",
       "\\item[housing] 0\n",
       "\\item[loan] 0\n",
       "\\item[contact] 0\n",
       "\\item[month] 0\n",
       "\\item[day\\textbackslash{}\\_of\\textbackslash{}\\_week] 0\n",
       "\\item[duration] 0\n",
       "\\item[campaign] 288\n",
       "\\item[pdays] 288\n",
       "\\item[previous] 288\n",
       "\\item[poutcome] 0\n",
       "\\item[emp.var.rate] 0\n",
       "\\item[cons.price.idx] 0\n",
       "\\item[cons.conf.idx] 0\n",
       "\\item[euribor3m] 0\n",
       "\\item[nr.employed] 0\n",
       "\\item[y] 0\n",
       "\\end{description*}\n"
      ],
      "text/markdown": [
       "age\n",
       ":   288job\n",
       ":   0marital\n",
       ":   0education\n",
       ":   0default\n",
       ":   0housing\n",
       ":   0loan\n",
       ":   0contact\n",
       ":   0month\n",
       ":   0day_of_week\n",
       ":   0duration\n",
       ":   0campaign\n",
       ":   288pdays\n",
       ":   288previous\n",
       ":   288poutcome\n",
       ":   0emp.var.rate\n",
       ":   0cons.price.idx\n",
       ":   0cons.conf.idx\n",
       ":   0euribor3m\n",
       ":   0nr.employed\n",
       ":   0y\n",
       ":   0\n",
       "\n"
      ],
      "text/plain": [
       "           age            job        marital      education        default \n",
       "           288              0              0              0              0 \n",
       "       housing           loan        contact          month    day_of_week \n",
       "             0              0              0              0              0 \n",
       "      duration       campaign          pdays       previous       poutcome \n",
       "             0            288            288            288              0 \n",
       "  emp.var.rate cons.price.idx  cons.conf.idx      euribor3m    nr.employed \n",
       "             0              0              0              0              0 \n",
       "             y \n",
       "             0 "
      ]
     },
     "metadata": {},
     "output_type": "display_data"
    }
   ],
   "source": [
    "colSums(is.na(data))"
   ]
  },
  {
   "cell_type": "code",
   "execution_count": 70,
   "id": "a735a1d1-2af3-44d1-a6a9-80f49471f3da",
   "metadata": {},
   "outputs": [
    {
     "data": {
      "text/html": [
       "<table class=\"dataframe\">\n",
       "<caption>A data.frame: 6 × 21</caption>\n",
       "<thead>\n",
       "\t<tr><th></th><th scope=col>age</th><th scope=col>job</th><th scope=col>marital</th><th scope=col>education</th><th scope=col>default</th><th scope=col>housing</th><th scope=col>loan</th><th scope=col>contact</th><th scope=col>month</th><th scope=col>day_of_week</th><th scope=col>⋯</th><th scope=col>campaign</th><th scope=col>pdays</th><th scope=col>previous</th><th scope=col>poutcome</th><th scope=col>emp.var.rate</th><th scope=col>cons.price.idx</th><th scope=col>cons.conf.idx</th><th scope=col>euribor3m</th><th scope=col>nr.employed</th><th scope=col>y</th></tr>\n",
       "\t<tr><th></th><th scope=col>&lt;int&gt;</th><th scope=col>&lt;chr&gt;</th><th scope=col>&lt;chr&gt;</th><th scope=col>&lt;chr&gt;</th><th scope=col>&lt;chr&gt;</th><th scope=col>&lt;chr&gt;</th><th scope=col>&lt;chr&gt;</th><th scope=col>&lt;chr&gt;</th><th scope=col>&lt;chr&gt;</th><th scope=col>&lt;chr&gt;</th><th scope=col>⋯</th><th scope=col>&lt;int&gt;</th><th scope=col>&lt;int&gt;</th><th scope=col>&lt;int&gt;</th><th scope=col>&lt;chr&gt;</th><th scope=col>&lt;dbl&gt;</th><th scope=col>&lt;dbl&gt;</th><th scope=col>&lt;dbl&gt;</th><th scope=col>&lt;dbl&gt;</th><th scope=col>&lt;dbl&gt;</th><th scope=col>&lt;chr&gt;</th></tr>\n",
       "</thead>\n",
       "<tbody>\n",
       "\t<tr><th scope=row>9</th><td>NA</td><td>services    </td><td>divorced</td><td>professional.course</td><td>no     </td><td>no </td><td>no </td><td>cellular </td><td>nov</td><td>tue</td><td>⋯</td><td>NA</td><td>999</td><td>NA</td><td>failure    </td><td>-0.1</td><td>93.200</td><td>-42.0</td><td>4.153</td><td>5195.8</td><td>no </td></tr>\n",
       "\t<tr><th scope=row>19</th><td>NA</td><td>entrepreneur</td><td>married </td><td>university.degree  </td><td>unknown</td><td>yes</td><td>yes</td><td>cellular </td><td>aug</td><td>mon</td><td>⋯</td><td> 2</td><td>999</td><td> 0</td><td>nonexistent</td><td> 1.4</td><td>93.444</td><td>-36.1</td><td>4.965</td><td>5228.1</td><td>no </td></tr>\n",
       "\t<tr><th scope=row>23</th><td>NA</td><td>technician  </td><td>single  </td><td>university.degree  </td><td>no     </td><td>yes</td><td>yes</td><td>cellular </td><td>aug</td><td>wed</td><td>⋯</td><td> 3</td><td>999</td><td>NA</td><td>nonexistent</td><td> 1.4</td><td>93.444</td><td>-36.1</td><td>4.967</td><td>5228.1</td><td>no </td></tr>\n",
       "\t<tr><th scope=row>47</th><td>NA</td><td>admin.      </td><td>married </td><td>university.degree  </td><td>no     </td><td>no </td><td>no </td><td>telephone</td><td>nov</td><td>thu</td><td>⋯</td><td> 1</td><td>999</td><td> 0</td><td>nonexistent</td><td>-0.1</td><td>93.200</td><td>-42.0</td><td>4.592</td><td>5195.8</td><td>no </td></tr>\n",
       "\t<tr><th scope=row>54</th><td>NA</td><td>technician  </td><td>married </td><td>university.degree  </td><td>no     </td><td>yes</td><td>yes</td><td>cellular </td><td>sep</td><td>tue</td><td>⋯</td><td> 2</td><td>  3</td><td> 1</td><td>success    </td><td>-3.4</td><td>92.379</td><td>-29.8</td><td>0.770</td><td>5017.5</td><td>yes</td></tr>\n",
       "\t<tr><th scope=row>85</th><td>NA</td><td>entrepreneur</td><td>divorced</td><td>university.degree  </td><td>no     </td><td>yes</td><td>no </td><td>cellular </td><td>nov</td><td>thu</td><td>⋯</td><td> 1</td><td> NA</td><td> 0</td><td>nonexistent</td><td>-0.1</td><td>93.200</td><td>-42.0</td><td>4.076</td><td>5195.8</td><td>no </td></tr>\n",
       "</tbody>\n",
       "</table>\n"
      ],
      "text/latex": [
       "A data.frame: 6 × 21\n",
       "\\begin{tabular}{r|lllllllllllllllllllll}\n",
       "  & age & job & marital & education & default & housing & loan & contact & month & day\\_of\\_week & ⋯ & campaign & pdays & previous & poutcome & emp.var.rate & cons.price.idx & cons.conf.idx & euribor3m & nr.employed & y\\\\\n",
       "  & <int> & <chr> & <chr> & <chr> & <chr> & <chr> & <chr> & <chr> & <chr> & <chr> & ⋯ & <int> & <int> & <int> & <chr> & <dbl> & <dbl> & <dbl> & <dbl> & <dbl> & <chr>\\\\\n",
       "\\hline\n",
       "\t9 & NA & services     & divorced & professional.course & no      & no  & no  & cellular  & nov & tue & ⋯ & NA & 999 & NA & failure     & -0.1 & 93.200 & -42.0 & 4.153 & 5195.8 & no \\\\\n",
       "\t19 & NA & entrepreneur & married  & university.degree   & unknown & yes & yes & cellular  & aug & mon & ⋯ &  2 & 999 &  0 & nonexistent &  1.4 & 93.444 & -36.1 & 4.965 & 5228.1 & no \\\\\n",
       "\t23 & NA & technician   & single   & university.degree   & no      & yes & yes & cellular  & aug & wed & ⋯ &  3 & 999 & NA & nonexistent &  1.4 & 93.444 & -36.1 & 4.967 & 5228.1 & no \\\\\n",
       "\t47 & NA & admin.       & married  & university.degree   & no      & no  & no  & telephone & nov & thu & ⋯ &  1 & 999 &  0 & nonexistent & -0.1 & 93.200 & -42.0 & 4.592 & 5195.8 & no \\\\\n",
       "\t54 & NA & technician   & married  & university.degree   & no      & yes & yes & cellular  & sep & tue & ⋯ &  2 &   3 &  1 & success     & -3.4 & 92.379 & -29.8 & 0.770 & 5017.5 & yes\\\\\n",
       "\t85 & NA & entrepreneur & divorced & university.degree   & no      & yes & no  & cellular  & nov & thu & ⋯ &  1 &  NA &  0 & nonexistent & -0.1 & 93.200 & -42.0 & 4.076 & 5195.8 & no \\\\\n",
       "\\end{tabular}\n"
      ],
      "text/markdown": [
       "\n",
       "A data.frame: 6 × 21\n",
       "\n",
       "| <!--/--> | age &lt;int&gt; | job &lt;chr&gt; | marital &lt;chr&gt; | education &lt;chr&gt; | default &lt;chr&gt; | housing &lt;chr&gt; | loan &lt;chr&gt; | contact &lt;chr&gt; | month &lt;chr&gt; | day_of_week &lt;chr&gt; | ⋯ ⋯ | campaign &lt;int&gt; | pdays &lt;int&gt; | previous &lt;int&gt; | poutcome &lt;chr&gt; | emp.var.rate &lt;dbl&gt; | cons.price.idx &lt;dbl&gt; | cons.conf.idx &lt;dbl&gt; | euribor3m &lt;dbl&gt; | nr.employed &lt;dbl&gt; | y &lt;chr&gt; |\n",
       "|---|---|---|---|---|---|---|---|---|---|---|---|---|---|---|---|---|---|---|---|---|---|\n",
       "| 9 | NA | services     | divorced | professional.course | no      | no  | no  | cellular  | nov | tue | ⋯ | NA | 999 | NA | failure     | -0.1 | 93.200 | -42.0 | 4.153 | 5195.8 | no  |\n",
       "| 19 | NA | entrepreneur | married  | university.degree   | unknown | yes | yes | cellular  | aug | mon | ⋯ |  2 | 999 |  0 | nonexistent |  1.4 | 93.444 | -36.1 | 4.965 | 5228.1 | no  |\n",
       "| 23 | NA | technician   | single   | university.degree   | no      | yes | yes | cellular  | aug | wed | ⋯ |  3 | 999 | NA | nonexistent |  1.4 | 93.444 | -36.1 | 4.967 | 5228.1 | no  |\n",
       "| 47 | NA | admin.       | married  | university.degree   | no      | no  | no  | telephone | nov | thu | ⋯ |  1 | 999 |  0 | nonexistent | -0.1 | 93.200 | -42.0 | 4.592 | 5195.8 | no  |\n",
       "| 54 | NA | technician   | married  | university.degree   | no      | yes | yes | cellular  | sep | tue | ⋯ |  2 |   3 |  1 | success     | -3.4 | 92.379 | -29.8 | 0.770 | 5017.5 | yes |\n",
       "| 85 | NA | entrepreneur | divorced | university.degree   | no      | yes | no  | cellular  | nov | thu | ⋯ |  1 |  NA |  0 | nonexistent | -0.1 | 93.200 | -42.0 | 4.076 | 5195.8 | no  |\n",
       "\n"
      ],
      "text/plain": [
       "   age job          marital  education           default housing loan contact  \n",
       "9  NA  services     divorced professional.course no      no      no   cellular \n",
       "19 NA  entrepreneur married  university.degree   unknown yes     yes  cellular \n",
       "23 NA  technician   single   university.degree   no      yes     yes  cellular \n",
       "47 NA  admin.       married  university.degree   no      no      no   telephone\n",
       "54 NA  technician   married  university.degree   no      yes     yes  cellular \n",
       "85 NA  entrepreneur divorced university.degree   no      yes     no   cellular \n",
       "   month day_of_week ⋯ campaign pdays previous poutcome    emp.var.rate\n",
       "9  nov   tue         ⋯ NA       999   NA       failure     -0.1        \n",
       "19 aug   mon         ⋯  2       999    0       nonexistent  1.4        \n",
       "23 aug   wed         ⋯  3       999   NA       nonexistent  1.4        \n",
       "47 nov   thu         ⋯  1       999    0       nonexistent -0.1        \n",
       "54 sep   tue         ⋯  2         3    1       success     -3.4        \n",
       "85 nov   thu         ⋯  1        NA    0       nonexistent -0.1        \n",
       "   cons.price.idx cons.conf.idx euribor3m nr.employed y  \n",
       "9  93.200         -42.0         4.153     5195.8      no \n",
       "19 93.444         -36.1         4.965     5228.1      no \n",
       "23 93.444         -36.1         4.967     5228.1      no \n",
       "47 93.200         -42.0         4.592     5195.8      no \n",
       "54 92.379         -29.8         0.770     5017.5      yes\n",
       "85 93.200         -42.0         4.076     5195.8      no "
      ]
     },
     "metadata": {},
     "output_type": "display_data"
    }
   ],
   "source": [
    "head(subset(data,is.na(age)))"
   ]
  },
  {
   "cell_type": "code",
   "execution_count": null,
   "id": "f9da5f17-f41e-40f9-af78-e86868e83058",
   "metadata": {},
   "outputs": [],
   "source": []
  },
  {
   "cell_type": "code",
   "execution_count": 45,
   "id": "9e6f1c72-da62-477b-9cfd-dfe6ac0e321c",
   "metadata": {},
   "outputs": [
    {
     "data": {
      "image/png": "[encoded data removed]",
      "text/plain": [
       "Plot with title “Histograma datos Lifetime para B”"
      ]
     },
     "metadata": {
      "image/png": {
       "height": 420,
       "width": 420
      }
     },
     "output_type": "display_data"
    }
   ],
   "source": [
    "hist(data$age, main = expression(\"Histograma datos Lifetime para B\"),\n",
    "     xlab = expression(\"Lifetime\"),\n",
    "     col = \"steelblue\", \n",
    "     border = \"white\", \n",
    "     bg = \"white\", \n",
    "     freq = FALSE)"
   ]
  },
  {
   "cell_type": "code",
   "execution_count": null,
   "id": "54fbfd58-312e-4719-aae0-cf32737ac51f",
   "metadata": {},
   "outputs": [],
   "source": []
  },
  {
   "cell_type": "code",
   "execution_count": 48,
   "id": "8e054e05-a300-4a7c-aaf2-86a190f41b43",
   "metadata": {},
   "outputs": [
    {
     "ename": "ERROR",
     "evalue": "Error in hist.default(data$job): 'x' must be numeric\n",
     "output_type": "error",
     "traceback": [
      "Error in hist.default(data$job): 'x' must be numeric\nTraceback:\n",
      "1. hist(data$job)",
      "2. hist.default(data$job)",
      "3. stop(\"'x' must be numeric\")"
     ]
    }
   ],
   "source": [
    "hist(data$job)  "
   ]
  },
  {
   "cell_type": "code",
   "execution_count": 53,
   "id": "db5d7eab-25d2-4174-aeab-0ff0869ad5fd",
   "metadata": {},
   "outputs": [
    {
     "name": "stderr",
     "output_type": "stream",
     "text": [
      "Don't know how to automatically pick scale for object of type data.frame. Defaulting to continuous.\n",
      "\n",
      "ERROR while rich displaying an object: Error: Aesthetics must be either length 1 or the same as the data (4119): x\n",
      "\n",
      "Traceback:\n",
      "1. FUN(X[[i]], ...)\n",
      "2. tryCatch(withCallingHandlers({\n",
      " .     if (!mime %in% names(repr::mime2repr)) \n",
      " .         stop(\"No repr_* for mimetype \", mime, \" in repr::mime2repr\")\n",
      " .     rpr <- repr::mime2repr[[mime]](obj)\n",
      " .     if (is.null(rpr)) \n",
      " .         return(NULL)\n",
      " .     prepare_content(is.raw(rpr), rpr)\n",
      " . }, error = error_handler), error = outer_handler)\n",
      "3. tryCatchList(expr, classes, parentenv, handlers)\n",
      "4. tryCatchOne(expr, names, parentenv, handlers[[1L]])\n",
      "5. doTryCatch(return(expr), name, parentenv, handler)\n",
      "6. withCallingHandlers({\n",
      " .     if (!mime %in% names(repr::mime2repr)) \n",
      " .         stop(\"No repr_* for mimetype \", mime, \" in repr::mime2repr\")\n",
      " .     rpr <- repr::mime2repr[[mime]](obj)\n",
      " .     if (is.null(rpr)) \n",
      " .         return(NULL)\n",
      " .     prepare_content(is.raw(rpr), rpr)\n",
      " . }, error = error_handler)\n",
      "7. repr::mime2repr[[mime]](obj)\n",
      "8. repr_text.default(obj)\n",
      "9. paste(capture.output(print(obj)), collapse = \"\\n\")\n",
      "10. capture.output(print(obj))\n",
      "11. withVisible(...elt(i))\n",
      "12. print(obj)\n",
      "13. print.ggplot(obj)\n",
      "14. ggplot_build(x)\n",
      "15. ggplot_build.ggplot(x)\n",
      "16. by_layer(function(l, d) l$compute_aesthetics(d, plot))\n",
      "17. f(l = layers[[i]], d = data[[i]])\n",
      "18. l$compute_aesthetics(d, plot)\n",
      "19. f(..., self = self)\n",
      "20. check_aesthetics(evaled, n)\n",
      "21. abort(glue(\"Aesthetics must be either length 1 or the same as the data ({n}): \", \n",
      "  .     glue_collapse(names(which(!good)), \", \", last = \" and \")))\n",
      "22. signal_abort(cnd)\n"
     ]
    },
    {
     "data": {
      "image/png": "[encoded data removed]",
      "text/plain": [
       "plot without title"
      ]
     },
     "metadata": {
      "image/png": {
       "height": 420,
       "width": 420
      }
     },
     "output_type": "display_data"
    }
   ],
   "source": [
    "library(ggplot2)\n",
    "# counts\n",
    "ggplot(data.frame(data), aes(x=data)) +\n",
    "  geom_bar()"
   ]
  },
  {
   "cell_type": "code",
   "execution_count": null,
   "id": "da18b37d-8034-434f-8222-adea2f66a589",
   "metadata": {},
   "outputs": [],
   "source": []
  }
 ],
 "metadata": {
  "kernelspec": {
   "display_name": "R",
   "language": "R",
   "name": "ir"
  },
  "language_info": {
   "codemirror_mode": "r",
   "file_extension": ".r",
   "mimetype": "text/x-r-source",
   "name": "R",
   "pygments_lexer": "r",
   "version": "4.1.2"
  }
 },
 "nbformat": 4,
 "nbformat_minor": 5
}
